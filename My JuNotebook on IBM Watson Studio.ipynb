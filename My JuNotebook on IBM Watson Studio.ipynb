{
 "cells": [
  {
   "cell_type": "markdown",
   "id": "3ad07264-4bd3-4763-8e36-0c7fb0fe104a",
   "metadata": {},
   "source": [
    "<h1> My Jupyter Notebook on IBM Watson Studio </h1>"
   ]
  },
  {
   "cell_type": "markdown",
   "id": "8790e69c-f1d0-49c9-bdbd-180f112242ba",
   "metadata": {},
   "source": [
    "<strong> Nathaniel Zbaida </strong> <br>\n",
    "Current Occupation: Systems Administrator"
   ]
  },
  {
   "cell_type": "markdown",
   "id": "c070d1a1-31be-49ad-a4f5-628ac83dca64",
   "metadata": {},
   "source": [
    "<em> I am interested in data science because data science can help me answer many questions that I am interested in. As an undergraduate student, I wrote a research thesis on predicting inflation, a very relevant topic in today's economic environment, and I believe data science techniques could provide a better prediction than the techniques I employed in that paper. </em>"
   ]
  },
  {
   "cell_type": "markdown",
   "id": "5609071a-fb19-4590-bf3e-159bf9d62782",
   "metadata": {},
   "source": [
    "<h3> My code in the next cell will calculate the value of n factorial. For example, if n = 4, then n! = 4! = 24 </h3>"
   ]
  },
  {
   "cell_type": "code",
   "execution_count": 9,
   "id": "560d418d-795f-4c68-acba-78f2e8dea255",
   "metadata": {},
   "outputs": [
    {
     "name": "stdout",
     "output_type": "stream",
     "text": [
      "please enter a whole number\n"
     ]
    },
    {
     "name": "stdin",
     "output_type": "stream",
     "text": [
      " 5\n"
     ]
    },
    {
     "name": "stdout",
     "output_type": "stream",
     "text": [
      "5 ! =  120\n"
     ]
    }
   ],
   "source": [
    "print(\"please enter a whole number\")\n",
    "num = int(input())\n",
    "temp = num\n",
    "for i in range(2, num):\n",
    "    temp = temp * i\n",
    "print(num, \"! = \", temp)"
   ]
  },
  {
   "cell_type": "markdown",
   "id": "fd909414-a6db-469d-a7b9-ea52f1b55b20",
   "metadata": {},
   "source": [
    "Example 1. <br>\n",
    "<br>\n",
    "***\n",
    "<br>\n",
    "Horizontal Rule <br>\n",
    "<br>\n",
    "Example 2. <br>\n",
    "<br>\n",
    "Bulleted List <br>\n",
    "<ul>\n",
    "    <li> item 1 </li>\n",
    "    <li> item 2 </li>\n",
    "    <li> item 3 </li>\n",
    "</ul>\n",
    "<br>\n",
    "Example 3. <br>\n",
    "<br>\n",
    "Numbered List <br>\n",
    "<ol>\n",
    "    <li> item 1 </li>\n",
    "    <li> item 2 </li>\n",
    "    <li> item 3 </li>\n",
    "</ol>"
   ]
  },
  {
   "cell_type": "code",
   "execution_count": null,
   "id": "964be642-b3fc-467b-a782-be6f660248bf",
   "metadata": {},
   "outputs": [],
   "source": []
  }
 ],
 "metadata": {
  "kernelspec": {
   "display_name": "Python",
   "language": "python",
   "name": "conda-env-python-py"
  },
  "language_info": {
   "codemirror_mode": {
    "name": "ipython",
    "version": 3
   },
   "file_extension": ".py",
   "mimetype": "text/x-python",
   "name": "python",
   "nbconvert_exporter": "python",
   "pygments_lexer": "ipython3",
   "version": "3.7.12"
  }
 },
 "nbformat": 4,
 "nbformat_minor": 5
}
